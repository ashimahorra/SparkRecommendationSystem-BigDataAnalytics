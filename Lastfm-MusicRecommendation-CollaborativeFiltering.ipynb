{
 "cells": [
  {
   "cell_type": "code",
   "execution_count": 32,
   "metadata": {
    "collapsed": true
   },
   "outputs": [],
   "source": [
    "#Importing libraries\n",
    "from pyspark.sql import SparkSession #to connect to spark cluster/core\n",
    "from pyspark import SparkContext  #to read file aptly\n",
    "\n",
    "import math\n",
    "import re\n",
    "import numpy as np\n",
    "import itertools\n",
    "import datetime\n",
    "\n",
    "from pyspark.mllib.recommendation import ALS, MatrixFactorizationModel, Rating\n",
    "from pyspark.ml.recommendation import ALS\n",
    "from pyspark.ml.evaluation import RegressionEvaluator"
   ]
  },
  {
   "cell_type": "code",
   "execution_count": 2,
   "metadata": {
    "collapsed": true
   },
   "outputs": [],
   "source": [
    "\n",
    "spark = SparkSession.builder \\\n",
    "        .master(\"local[*]\") \\\n",
    "        .appName(\"RecommendationSystems\") \\\n",
    "        .config(\"spark.some.config.option\", \"some-value\") \\\n",
    "        .getOrCreate()\n",
    "        \n",
    "sc=SparkContext.getOrCreate()"
   ]
  },
  {
   "cell_type": "code",
   "execution_count": 4,
   "metadata": {
    "collapsed": true
   },
   "outputs": [],
   "source": [
    "#Creating pointer to the file \n",
    "userArtistsFull = sc.textFile(\"lastfm-dataset-360K/usersha1-artmbid-artname-plays.tsv\")"
   ]
  },
  {
   "cell_type": "code",
   "execution_count": 5,
   "metadata": {},
   "outputs": [
    {
     "data": {
      "text/plain": [
       "['00000c289a1829a808ac09c00daf10bc3c4e223b\\t3bd73256-3905-4f3a-97e2-8b341527f805\\tbetty blowtorch\\t2137',\n",
       " '00000c289a1829a808ac09c00daf10bc3c4e223b\\tf2fb0ff0-5679-42ec-a55c-15109ce6e320\\tdie Ärzte\\t1099',\n",
       " '00000c289a1829a808ac09c00daf10bc3c4e223b\\tb3ae82c2-e60b-4551-a76d-6620f1b456aa\\tmelissa etheridge\\t897',\n",
       " '00000c289a1829a808ac09c00daf10bc3c4e223b\\t3d6bbeb7-f90e-4d10-b440-e153c0d10b53\\telvenking\\t717',\n",
       " '00000c289a1829a808ac09c00daf10bc3c4e223b\\tbbd2ffd7-17f4-4506-8572-c1ea58c3f9a8\\tjuliette & the licks\\t706']"
      ]
     },
     "execution_count": 5,
     "metadata": {},
     "output_type": "execute_result"
    }
   ],
   "source": [
    "#Reading 5 rows from the memory to the disk \n",
    "userArtistsFull.take(5)"
   ]
  },
  {
   "cell_type": "code",
   "execution_count": 6,
   "metadata": {
    "collapsed": true
   },
   "outputs": [],
   "source": [
    "#Extracting only the required columns \"UserID\",\"ArtistID\" and \"plays\"\n",
    "userArtists = userArtistsFull.map(lambda line: line.split(\"\\t\")).map(lambda tokens: (tokens[0],tokens[1],tokens[3])).cache()"
   ]
  },
  {
   "cell_type": "code",
   "execution_count": 23,
   "metadata": {},
   "outputs": [
    {
     "name": "stdout",
     "output_type": "stream",
     "text": [
      "length of data - 17559530\n"
     ]
    }
   ],
   "source": [
    "print (\"length of data -\",userArtists.count())"
   ]
  },
  {
   "cell_type": "code",
   "execution_count": 11,
   "metadata": {
    "collapsed": true
   },
   "outputs": [],
   "source": [
    "#Converting the user and artists strings into numerical IDs\n",
    "users = userArtists.map(lambda x: x[0]).distinct().zipWithIndex()\n",
    "artists = userArtists.map(lambda x: x[1]).distinct().zipWithIndex()"
   ]
  },
  {
   "cell_type": "code",
   "execution_count": 12,
   "metadata": {},
   "outputs": [
    {
     "name": "stdout",
     "output_type": "stream",
     "text": [
      "Number of distinct Users : 359349\n",
      "Number of distinct Artists : 160168\n"
     ]
    }
   ],
   "source": [
    "print(\"Number of distinct Users :\", users.count())\n",
    "print(\"Number of distinct Artists :\", artists.count())"
   ]
  },
  {
   "cell_type": "code",
   "execution_count": 24,
   "metadata": {
    "collapsed": true
   },
   "outputs": [],
   "source": [
    "#data2 = userArtists.map(lambda r: (r[0], (r[1], r[2])))\n",
    "#data3 = userArtists.map(lambda r: (r[0], (r[1], r[2]))).join(users).map(lambda r: (r[1][1], r[1][0][0], r[1][0][1]))"
   ]
  },
  {
   "cell_type": "code",
   "execution_count": 14,
   "metadata": {},
   "outputs": [
    {
     "data": {
      "text/plain": [
       "[('00000c289a1829a808ac09c00daf10bc3c4e223b',\n",
       "  ('3bd73256-3905-4f3a-97e2-8b341527f805', '2137'))]"
      ]
     },
     "execution_count": 14,
     "metadata": {},
     "output_type": "execute_result"
    }
   ],
   "source": [
    "#data2.take(1)"
   ]
  },
  {
   "cell_type": "code",
   "execution_count": 25,
   "metadata": {},
   "outputs": [
    {
     "data": {
      "text/plain": [
       "[(0, 'a74b1b7f-71a5-4011-9441-d0b5e4122711', '609')]"
      ]
     },
     "execution_count": 25,
     "metadata": {},
     "output_type": "execute_result"
    }
   ],
   "source": [
    "#data3.take(1)"
   ]
  },
  {
   "cell_type": "code",
   "execution_count": 26,
   "metadata": {
    "collapsed": true
   },
   "outputs": [],
   "source": [
    "#Substituting the users and artists with their respective IDs\n",
    "userArtists = userArtists.map(lambda r: (r[0], (r[1], r[2]))).join(users).map(lambda r: (r[1][1], r[1][0][0], r[1][0][1]))\n",
    "userArtists = userArtists.map(lambda r: (r[1], (r[0], r[2]))).join(artists).map(lambda r: (r[1][0][0], r[1][1], r[1][0][1]))"
   ]
  },
  {
   "cell_type": "code",
   "execution_count": 29,
   "metadata": {},
   "outputs": [
    {
     "data": {
      "text/plain": [
       "17559530"
      ]
     },
     "execution_count": 29,
     "metadata": {},
     "output_type": "execute_result"
    }
   ],
   "source": [
    "#Using the rating function(from mllib.recommendation) to create object of better format (int, int, float)\n",
    "userArtists = userArtists.map(lambda l: Rating(int(l[0]), int(l[1]), float(l[2])))\n",
    "userArtists.count()"
   ]
  },
  {
   "cell_type": "code",
   "execution_count": 44,
   "metadata": {},
   "outputs": [],
   "source": [
    "#Deviding the data into train,validation and test - \"SDF Object\"\n",
    "userArtistSDF = spark.createDataFrame(userArtists, ['UserId', 'ArtistId', 'plays'] )\n",
    "training_RDD, validation_RDD, test_RDD = userArtistsDF.randomSplit([0.6, 0.2, 0.2],seed=2)\n",
    "validation_userArtists = validation_RDD.select(\"UserId\",\"ArtistID\")\n",
    "test_userArtists = test_RDD.select(\"UserId\",\"ArtistID\")"
   ]
  },
  {
   "cell_type": "code",
   "execution_count": 45,
   "metadata": {},
   "outputs": [],
   "source": [
    "#Deviding the data into train,validation and test - \"Ratings Object\"\n",
    "\n",
    "training_RDDr, validation_RDDr, test_RDDr = userArtists.randomSplit([6, 2, 2],seed=2)\n",
    "validation_userArtistsR = validation_RDDr.map(lambda x: (x[0], x[1]))\n",
    "test_userArtistsR = test_RDDr.map(lambda x: (x[0], x[1]))\n"
   ]
  },
  {
   "cell_type": "markdown",
   "metadata": {},
   "source": [
    "### Elementory Training"
   ]
  },
  {
   "cell_type": "code",
   "execution_count": 47,
   "metadata": {},
   "outputs": [],
   "source": [
    "#Training without  specific hyper parameters\n",
    "model = ALS(userCol=\"UserId\", itemCol=\"ArtistId\", ratingCol=\"plays\").fit(training_RDD)"
   ]
  },
  {
   "cell_type": "code",
   "execution_count": 48,
   "metadata": {},
   "outputs": [
    {
     "name": "stdout",
     "output_type": "stream",
     "text": [
      "+------+--------+-----+----------+\n",
      "|UserId|ArtistId|plays|prediction|\n",
      "+------+--------+-----+----------+\n",
      "|109622|     148|776.0| 509.52637|\n",
      "|262597|     148|140.0| 192.65195|\n",
      "|302550|     148|229.0|  329.1944|\n",
      "| 11280|     148|224.0|  357.5207|\n",
      "| 71984|     148|201.0| 209.24959|\n",
      "|121812|     148|109.0| 208.89005|\n",
      "|129627|     148| 77.0| 148.16809|\n",
      "|212128|     148| 69.0|  97.50506|\n",
      "|288522|     148| 73.0|106.645226|\n",
      "|266184|     148| 20.0| 44.081608|\n",
      "| 40824|     148|548.0| 365.89624|\n",
      "|290570|     148|153.0| 109.49223|\n",
      "| 15292|     148|334.0| 340.38077|\n",
      "|139486|     148| 96.0| 333.65973|\n",
      "|176799|     148|319.0|  198.7132|\n",
      "|349692|     148|238.0| 198.41357|\n",
      "| 72464|     148|118.0| 182.11542|\n",
      "| 81532|     148|206.0| 93.044106|\n",
      "|207532|     148| 19.0| 25.378273|\n",
      "| 36528|     148|156.0| 123.07705|\n",
      "+------+--------+-----+----------+\n",
      "only showing top 20 rows\n",
      "\n"
     ]
    }
   ],
   "source": [
    "predictions = model.transform(training_RDD)\n",
    "predictions.show()"
   ]
  },
  {
   "cell_type": "code",
   "execution_count": 50,
   "metadata": {},
   "outputs": [
    {
     "name": "stdout",
     "output_type": "stream",
     "text": [
      "The root mean squared error for our model is:  208.18046340202068\n"
     ]
    }
   ],
   "source": [
    "evaluator = RegressionEvaluator(metricName=\"rmse\", labelCol=\"plays\", predictionCol=\"prediction\")\n",
    "print (\"The root mean squared error for our model is: \", str(evaluator.evaluate(predictions)))"
   ]
  },
  {
   "cell_type": "code",
   "execution_count": null,
   "metadata": {
    "collapsed": true
   },
   "outputs": [],
   "source": []
  }
 ],
 "metadata": {
  "kernelspec": {
   "display_name": "Python 3",
   "language": "python",
   "name": "python3"
  },
  "language_info": {
   "codemirror_mode": {
    "name": "ipython",
    "version": 3
   },
   "file_extension": ".py",
   "mimetype": "text/x-python",
   "name": "python",
   "nbconvert_exporter": "python",
   "pygments_lexer": "ipython3",
   "version": "3.6.3"
  }
 },
 "nbformat": 4,
 "nbformat_minor": 2
}
